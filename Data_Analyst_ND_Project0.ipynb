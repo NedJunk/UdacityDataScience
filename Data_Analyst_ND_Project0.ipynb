{
 "cells": [
  {
   "cell_type": "markdown",
   "metadata": {},
   "source": [
    "#Chopsticks!\n",
    "\n",
    "A few researchers set out to determine the optimal length of chopsticks for children and adults. They came up with a measure of how effective a pair of chopsticks performed, called the \"Food Pinching Performance.\" The \"Food Pinching Performance\" was determined by counting the number of peanuts picked and placed in a cup (PPPC).\n",
    "\n",
    "### An investigation for determining the optimum length of chopsticks.\n",
    "[Link to Abstract and Paper](http://www.ncbi.nlm.nih.gov/pubmed/15676839)  \n",
    "*the abstract below was adapted from the link*\n",
    "\n",
    "Chopsticks are one of the most simple and popular hand tools ever invented by humans, but have not previously been investigated by [ergonomists](https://www.google.com/search?q=ergonomists). Two laboratory studies were conducted in this research, using a [randomised complete block design](http://dawg.utk.edu/glossary/whatis_rcbd.htm), to evaluate the effects of the length of the chopsticks on the food-serving performance of adults and children. Thirty-one male junior college students and 21 primary school pupils served as subjects for the experiment to test chopsticks lengths of 180, 210, 240, 270, 300, and 330 mm. The results showed that the food-pinching performance was significantly affected by the length of the chopsticks, and that chopsticks of about 240 and 180 mm long were optimal for adults and pupils, respectively. Based on these findings, the researchers suggested that families with children should provide both 240 and 180 mm long chopsticks. In addition, restaurants could provide 210 mm long chopsticks, considering the trade-offs between ergonomics and cost.\n",
    "\n",
    "### For the rest of this project, answer all questions based only on the part of the experiment analyzing the thirty-one adult male college students.\n",
    "Download the [data set for the adults](https://www.udacity.com/api/nodes/4576183932/supplemental_media/chopstick-effectivenesscsv/download), then answer the following questions based on the abstract and the data set.\n",
    "\n",
    "**If you double click on this cell**, you will see the text change so that all of the formatting is removed. This allows you to edit this block of text. This block of text is written using [Markdown](http://daringfireball.net/projects/markdown/syntax), which is a way to format text using headers, links, italics, and many other options. You will learn more about Markdown later in the Nanodegree Program. Hit shift + enter or shift + return to show the formatted text."
   ]
  },
  {
   "cell_type": "markdown",
   "metadata": {},
   "source": [
    "#### 1. What is the independent variable in the experiment?\n",
    "\n",
    "The length of the chopsticks in millimeters."
   ]
  },
  {
   "cell_type": "markdown",
   "metadata": {},
   "source": [
    "#### 2. What is the dependent variable in the experiment?\n",
    "\n",
    "The food serving performance."
   ]
  },
  {
   "cell_type": "markdown",
   "metadata": {},
   "source": [
    "#### 3. How is the dependent variable operationally defined?\n",
    "\n",
    "The number of peanuts picked and placed in a cup (PPPC)."
   ]
  },
  {
   "cell_type": "markdown",
   "metadata": {},
   "source": [
    "#### 4. Based on the description of the experiment and the data set, list at least two variables that you know were controlled.\n",
    "\n",
    "#####Age and Sex\n",
    "Although the wording does not indicate that the primary school students were controlled for sex, the college juniors were. The fact that there were no infants, elderly, or even mature adults suggests that the experimenters were controlling for age and the other lurking variables that may accompany it (eg. years of experience which may vary more widely over a population of older people)."
   ]
  },
  {
   "cell_type": "markdown",
   "metadata": {},
   "source": [
    "One great advantage of ipython notebooks is that you can document your data analysis using code, add comments to the code, or even add blocks of text using Markdown. These notebooks allow you to collaborate with others and share your work. For now, let's see some code for doing statistics."
   ]
  },
  {
   "cell_type": "code",
   "execution_count": 1,
   "metadata": {
    "collapsed": false
   },
   "outputs": [],
   "source": [
    "import pandas as pd\n",
    "\n",
    "# pandas is a software library for data manipulation and analysis\n",
    "# We commonly use shorter nicknames for certain packages. Pandas is often abbreviated to pd.\n",
    "# hit shift + enter to run this cell or block of code"
   ]
  },
  {
   "cell_type": "code",
   "execution_count": 2,
   "metadata": {
    "collapsed": false
   },
   "outputs": [
    {
     "data": {
      "text/html": [
       "<div>\n",
       "<table border=\"1\" class=\"dataframe\">\n",
       "  <thead>\n",
       "    <tr style=\"text-align: right;\">\n",
       "      <th></th>\n",
       "      <th>Food.Pinching.Efficiency</th>\n",
       "      <th>Individual</th>\n",
       "      <th>Chopstick.Length</th>\n",
       "    </tr>\n",
       "  </thead>\n",
       "  <tbody>\n",
       "    <tr>\n",
       "      <th>0</th>\n",
       "      <td>19.55</td>\n",
       "      <td>1</td>\n",
       "      <td>180</td>\n",
       "    </tr>\n",
       "    <tr>\n",
       "      <th>1</th>\n",
       "      <td>27.24</td>\n",
       "      <td>2</td>\n",
       "      <td>180</td>\n",
       "    </tr>\n",
       "    <tr>\n",
       "      <th>2</th>\n",
       "      <td>28.76</td>\n",
       "      <td>3</td>\n",
       "      <td>180</td>\n",
       "    </tr>\n",
       "    <tr>\n",
       "      <th>3</th>\n",
       "      <td>31.19</td>\n",
       "      <td>4</td>\n",
       "      <td>180</td>\n",
       "    </tr>\n",
       "    <tr>\n",
       "      <th>4</th>\n",
       "      <td>21.91</td>\n",
       "      <td>5</td>\n",
       "      <td>180</td>\n",
       "    </tr>\n",
       "    <tr>\n",
       "      <th>5</th>\n",
       "      <td>27.62</td>\n",
       "      <td>6</td>\n",
       "      <td>180</td>\n",
       "    </tr>\n",
       "    <tr>\n",
       "      <th>6</th>\n",
       "      <td>29.46</td>\n",
       "      <td>7</td>\n",
       "      <td>180</td>\n",
       "    </tr>\n",
       "    <tr>\n",
       "      <th>7</th>\n",
       "      <td>26.35</td>\n",
       "      <td>8</td>\n",
       "      <td>180</td>\n",
       "    </tr>\n",
       "    <tr>\n",
       "      <th>8</th>\n",
       "      <td>26.69</td>\n",
       "      <td>9</td>\n",
       "      <td>180</td>\n",
       "    </tr>\n",
       "    <tr>\n",
       "      <th>9</th>\n",
       "      <td>30.22</td>\n",
       "      <td>10</td>\n",
       "      <td>180</td>\n",
       "    </tr>\n",
       "    <tr>\n",
       "      <th>10</th>\n",
       "      <td>27.81</td>\n",
       "      <td>11</td>\n",
       "      <td>180</td>\n",
       "    </tr>\n",
       "    <tr>\n",
       "      <th>11</th>\n",
       "      <td>23.46</td>\n",
       "      <td>12</td>\n",
       "      <td>180</td>\n",
       "    </tr>\n",
       "    <tr>\n",
       "      <th>12</th>\n",
       "      <td>23.64</td>\n",
       "      <td>13</td>\n",
       "      <td>180</td>\n",
       "    </tr>\n",
       "    <tr>\n",
       "      <th>13</th>\n",
       "      <td>27.85</td>\n",
       "      <td>14</td>\n",
       "      <td>180</td>\n",
       "    </tr>\n",
       "    <tr>\n",
       "      <th>14</th>\n",
       "      <td>20.62</td>\n",
       "      <td>15</td>\n",
       "      <td>180</td>\n",
       "    </tr>\n",
       "    <tr>\n",
       "      <th>15</th>\n",
       "      <td>25.35</td>\n",
       "      <td>16</td>\n",
       "      <td>180</td>\n",
       "    </tr>\n",
       "    <tr>\n",
       "      <th>16</th>\n",
       "      <td>28.00</td>\n",
       "      <td>17</td>\n",
       "      <td>180</td>\n",
       "    </tr>\n",
       "    <tr>\n",
       "      <th>17</th>\n",
       "      <td>23.49</td>\n",
       "      <td>18</td>\n",
       "      <td>180</td>\n",
       "    </tr>\n",
       "    <tr>\n",
       "      <th>18</th>\n",
       "      <td>27.77</td>\n",
       "      <td>19</td>\n",
       "      <td>180</td>\n",
       "    </tr>\n",
       "    <tr>\n",
       "      <th>19</th>\n",
       "      <td>18.48</td>\n",
       "      <td>20</td>\n",
       "      <td>180</td>\n",
       "    </tr>\n",
       "    <tr>\n",
       "      <th>20</th>\n",
       "      <td>23.01</td>\n",
       "      <td>21</td>\n",
       "      <td>180</td>\n",
       "    </tr>\n",
       "    <tr>\n",
       "      <th>21</th>\n",
       "      <td>22.66</td>\n",
       "      <td>22</td>\n",
       "      <td>180</td>\n",
       "    </tr>\n",
       "    <tr>\n",
       "      <th>22</th>\n",
       "      <td>23.24</td>\n",
       "      <td>23</td>\n",
       "      <td>180</td>\n",
       "    </tr>\n",
       "    <tr>\n",
       "      <th>23</th>\n",
       "      <td>22.82</td>\n",
       "      <td>24</td>\n",
       "      <td>180</td>\n",
       "    </tr>\n",
       "    <tr>\n",
       "      <th>24</th>\n",
       "      <td>17.94</td>\n",
       "      <td>25</td>\n",
       "      <td>180</td>\n",
       "    </tr>\n",
       "    <tr>\n",
       "      <th>25</th>\n",
       "      <td>26.67</td>\n",
       "      <td>26</td>\n",
       "      <td>180</td>\n",
       "    </tr>\n",
       "    <tr>\n",
       "      <th>26</th>\n",
       "      <td>28.98</td>\n",
       "      <td>27</td>\n",
       "      <td>180</td>\n",
       "    </tr>\n",
       "    <tr>\n",
       "      <th>27</th>\n",
       "      <td>21.48</td>\n",
       "      <td>28</td>\n",
       "      <td>180</td>\n",
       "    </tr>\n",
       "    <tr>\n",
       "      <th>28</th>\n",
       "      <td>14.47</td>\n",
       "      <td>29</td>\n",
       "      <td>180</td>\n",
       "    </tr>\n",
       "    <tr>\n",
       "      <th>29</th>\n",
       "      <td>28.29</td>\n",
       "      <td>30</td>\n",
       "      <td>180</td>\n",
       "    </tr>\n",
       "    <tr>\n",
       "      <th>...</th>\n",
       "      <td>...</td>\n",
       "      <td>...</td>\n",
       "      <td>...</td>\n",
       "    </tr>\n",
       "    <tr>\n",
       "      <th>156</th>\n",
       "      <td>26.18</td>\n",
       "      <td>2</td>\n",
       "      <td>330</td>\n",
       "    </tr>\n",
       "    <tr>\n",
       "      <th>157</th>\n",
       "      <td>25.93</td>\n",
       "      <td>3</td>\n",
       "      <td>330</td>\n",
       "    </tr>\n",
       "    <tr>\n",
       "      <th>158</th>\n",
       "      <td>28.61</td>\n",
       "      <td>4</td>\n",
       "      <td>330</td>\n",
       "    </tr>\n",
       "    <tr>\n",
       "      <th>159</th>\n",
       "      <td>20.54</td>\n",
       "      <td>5</td>\n",
       "      <td>330</td>\n",
       "    </tr>\n",
       "    <tr>\n",
       "      <th>160</th>\n",
       "      <td>26.44</td>\n",
       "      <td>6</td>\n",
       "      <td>330</td>\n",
       "    </tr>\n",
       "    <tr>\n",
       "      <th>161</th>\n",
       "      <td>29.36</td>\n",
       "      <td>7</td>\n",
       "      <td>330</td>\n",
       "    </tr>\n",
       "    <tr>\n",
       "      <th>162</th>\n",
       "      <td>19.77</td>\n",
       "      <td>8</td>\n",
       "      <td>330</td>\n",
       "    </tr>\n",
       "    <tr>\n",
       "      <th>163</th>\n",
       "      <td>31.69</td>\n",
       "      <td>9</td>\n",
       "      <td>330</td>\n",
       "    </tr>\n",
       "    <tr>\n",
       "      <th>164</th>\n",
       "      <td>24.64</td>\n",
       "      <td>10</td>\n",
       "      <td>330</td>\n",
       "    </tr>\n",
       "    <tr>\n",
       "      <th>165</th>\n",
       "      <td>22.09</td>\n",
       "      <td>11</td>\n",
       "      <td>330</td>\n",
       "    </tr>\n",
       "    <tr>\n",
       "      <th>166</th>\n",
       "      <td>23.42</td>\n",
       "      <td>12</td>\n",
       "      <td>330</td>\n",
       "    </tr>\n",
       "    <tr>\n",
       "      <th>167</th>\n",
       "      <td>28.63</td>\n",
       "      <td>13</td>\n",
       "      <td>330</td>\n",
       "    </tr>\n",
       "    <tr>\n",
       "      <th>168</th>\n",
       "      <td>26.30</td>\n",
       "      <td>14</td>\n",
       "      <td>330</td>\n",
       "    </tr>\n",
       "    <tr>\n",
       "      <th>169</th>\n",
       "      <td>22.89</td>\n",
       "      <td>15</td>\n",
       "      <td>330</td>\n",
       "    </tr>\n",
       "    <tr>\n",
       "      <th>170</th>\n",
       "      <td>22.68</td>\n",
       "      <td>16</td>\n",
       "      <td>330</td>\n",
       "    </tr>\n",
       "    <tr>\n",
       "      <th>171</th>\n",
       "      <td>30.92</td>\n",
       "      <td>17</td>\n",
       "      <td>330</td>\n",
       "    </tr>\n",
       "    <tr>\n",
       "      <th>172</th>\n",
       "      <td>20.74</td>\n",
       "      <td>18</td>\n",
       "      <td>330</td>\n",
       "    </tr>\n",
       "    <tr>\n",
       "      <th>173</th>\n",
       "      <td>27.24</td>\n",
       "      <td>19</td>\n",
       "      <td>330</td>\n",
       "    </tr>\n",
       "    <tr>\n",
       "      <th>174</th>\n",
       "      <td>17.12</td>\n",
       "      <td>20</td>\n",
       "      <td>330</td>\n",
       "    </tr>\n",
       "    <tr>\n",
       "      <th>175</th>\n",
       "      <td>23.63</td>\n",
       "      <td>21</td>\n",
       "      <td>330</td>\n",
       "    </tr>\n",
       "    <tr>\n",
       "      <th>176</th>\n",
       "      <td>20.91</td>\n",
       "      <td>22</td>\n",
       "      <td>330</td>\n",
       "    </tr>\n",
       "    <tr>\n",
       "      <th>177</th>\n",
       "      <td>23.49</td>\n",
       "      <td>23</td>\n",
       "      <td>330</td>\n",
       "    </tr>\n",
       "    <tr>\n",
       "      <th>178</th>\n",
       "      <td>24.86</td>\n",
       "      <td>24</td>\n",
       "      <td>330</td>\n",
       "    </tr>\n",
       "    <tr>\n",
       "      <th>179</th>\n",
       "      <td>16.28</td>\n",
       "      <td>25</td>\n",
       "      <td>330</td>\n",
       "    </tr>\n",
       "    <tr>\n",
       "      <th>180</th>\n",
       "      <td>21.52</td>\n",
       "      <td>26</td>\n",
       "      <td>330</td>\n",
       "    </tr>\n",
       "    <tr>\n",
       "      <th>181</th>\n",
       "      <td>27.22</td>\n",
       "      <td>27</td>\n",
       "      <td>330</td>\n",
       "    </tr>\n",
       "    <tr>\n",
       "      <th>182</th>\n",
       "      <td>17.41</td>\n",
       "      <td>28</td>\n",
       "      <td>330</td>\n",
       "    </tr>\n",
       "    <tr>\n",
       "      <th>183</th>\n",
       "      <td>16.42</td>\n",
       "      <td>29</td>\n",
       "      <td>330</td>\n",
       "    </tr>\n",
       "    <tr>\n",
       "      <th>184</th>\n",
       "      <td>28.22</td>\n",
       "      <td>30</td>\n",
       "      <td>330</td>\n",
       "    </tr>\n",
       "    <tr>\n",
       "      <th>185</th>\n",
       "      <td>27.52</td>\n",
       "      <td>31</td>\n",
       "      <td>330</td>\n",
       "    </tr>\n",
       "  </tbody>\n",
       "</table>\n",
       "<p>186 rows × 3 columns</p>\n",
       "</div>"
      ],
      "text/plain": [
       "     Food.Pinching.Efficiency  Individual  Chopstick.Length\n",
       "0                       19.55           1               180\n",
       "1                       27.24           2               180\n",
       "2                       28.76           3               180\n",
       "3                       31.19           4               180\n",
       "4                       21.91           5               180\n",
       "5                       27.62           6               180\n",
       "6                       29.46           7               180\n",
       "7                       26.35           8               180\n",
       "8                       26.69           9               180\n",
       "9                       30.22          10               180\n",
       "10                      27.81          11               180\n",
       "11                      23.46          12               180\n",
       "12                      23.64          13               180\n",
       "13                      27.85          14               180\n",
       "14                      20.62          15               180\n",
       "15                      25.35          16               180\n",
       "16                      28.00          17               180\n",
       "17                      23.49          18               180\n",
       "18                      27.77          19               180\n",
       "19                      18.48          20               180\n",
       "20                      23.01          21               180\n",
       "21                      22.66          22               180\n",
       "22                      23.24          23               180\n",
       "23                      22.82          24               180\n",
       "24                      17.94          25               180\n",
       "25                      26.67          26               180\n",
       "26                      28.98          27               180\n",
       "27                      21.48          28               180\n",
       "28                      14.47          29               180\n",
       "29                      28.29          30               180\n",
       "..                        ...         ...               ...\n",
       "156                     26.18           2               330\n",
       "157                     25.93           3               330\n",
       "158                     28.61           4               330\n",
       "159                     20.54           5               330\n",
       "160                     26.44           6               330\n",
       "161                     29.36           7               330\n",
       "162                     19.77           8               330\n",
       "163                     31.69           9               330\n",
       "164                     24.64          10               330\n",
       "165                     22.09          11               330\n",
       "166                     23.42          12               330\n",
       "167                     28.63          13               330\n",
       "168                     26.30          14               330\n",
       "169                     22.89          15               330\n",
       "170                     22.68          16               330\n",
       "171                     30.92          17               330\n",
       "172                     20.74          18               330\n",
       "173                     27.24          19               330\n",
       "174                     17.12          20               330\n",
       "175                     23.63          21               330\n",
       "176                     20.91          22               330\n",
       "177                     23.49          23               330\n",
       "178                     24.86          24               330\n",
       "179                     16.28          25               330\n",
       "180                     21.52          26               330\n",
       "181                     27.22          27               330\n",
       "182                     17.41          28               330\n",
       "183                     16.42          29               330\n",
       "184                     28.22          30               330\n",
       "185                     27.52          31               330\n",
       "\n",
       "[186 rows x 3 columns]"
      ]
     },
     "execution_count": 2,
     "metadata": {},
     "output_type": "execute_result"
    }
   ],
   "source": [
    "path = r'~/Desktop/Udacity/DataScience/P0-ChopSticks/chopstick-effectiveness.csv'\n",
    "# Change the path to the location where the chopstick-effectiveness.csv file is located on your computer.\n",
    "# If you get an error when running this block of code, be sure the chopstick-effectiveness.csv is located at the path on your computer.\n",
    "\n",
    "dataFrame = pd.read_csv(path)\n",
    "dataFrame"
   ]
  },
  {
   "cell_type": "markdown",
   "metadata": {},
   "source": [
    "Let's do a basic statistical calculation on the data using code! Run the block of code below to calculate the average \"Food Pinching Efficiency\" for all 31 participants and all chopstick lengths."
   ]
  },
  {
   "cell_type": "code",
   "execution_count": 3,
   "metadata": {
    "collapsed": false
   },
   "outputs": [
    {
     "data": {
      "text/plain": [
       "25.00559139784947"
      ]
     },
     "execution_count": 3,
     "metadata": {},
     "output_type": "execute_result"
    }
   ],
   "source": [
    "dataFrame['Food.Pinching.Efficiency'].mean()"
   ]
  },
  {
   "cell_type": "markdown",
   "metadata": {},
   "source": [
    "This number is helpful, but the number doesn't let us know which of the chopstick lengths performed best for the thirty-one male junior college students. Let's break down the data by chopstick length. The next block of code will generate the average \"Food Pinching Effeciency\" for each chopstick length. Run the block of code below."
   ]
  },
  {
   "cell_type": "code",
   "execution_count": 4,
   "metadata": {
    "collapsed": false
   },
   "outputs": [
    {
     "data": {
      "text/html": [
       "<div>\n",
       "<table border=\"1\" class=\"dataframe\">\n",
       "  <thead>\n",
       "    <tr style=\"text-align: right;\">\n",
       "      <th></th>\n",
       "      <th>Chopstick.Length</th>\n",
       "      <th>Food.Pinching.Efficiency</th>\n",
       "    </tr>\n",
       "  </thead>\n",
       "  <tbody>\n",
       "    <tr>\n",
       "      <th>0</th>\n",
       "      <td>180</td>\n",
       "      <td>24.935161</td>\n",
       "    </tr>\n",
       "    <tr>\n",
       "      <th>1</th>\n",
       "      <td>210</td>\n",
       "      <td>25.483871</td>\n",
       "    </tr>\n",
       "    <tr>\n",
       "      <th>2</th>\n",
       "      <td>240</td>\n",
       "      <td>26.322903</td>\n",
       "    </tr>\n",
       "    <tr>\n",
       "      <th>3</th>\n",
       "      <td>270</td>\n",
       "      <td>24.323871</td>\n",
       "    </tr>\n",
       "    <tr>\n",
       "      <th>4</th>\n",
       "      <td>300</td>\n",
       "      <td>24.968065</td>\n",
       "    </tr>\n",
       "    <tr>\n",
       "      <th>5</th>\n",
       "      <td>330</td>\n",
       "      <td>23.999677</td>\n",
       "    </tr>\n",
       "  </tbody>\n",
       "</table>\n",
       "</div>"
      ],
      "text/plain": [
       "   Chopstick.Length  Food.Pinching.Efficiency\n",
       "0               180                 24.935161\n",
       "1               210                 25.483871\n",
       "2               240                 26.322903\n",
       "3               270                 24.323871\n",
       "4               300                 24.968065\n",
       "5               330                 23.999677"
      ]
     },
     "execution_count": 4,
     "metadata": {},
     "output_type": "execute_result"
    }
   ],
   "source": [
    "meansByChopstickLength = dataFrame.groupby('Chopstick.Length')['Food.Pinching.Efficiency'].mean().reset_index()\n",
    "meansByChopstickLength\n",
    "\n",
    "# reset_index() changes Chopstick.Length from an index to column. Instead of the index being the length of the chopsticks, the index is the row numbers 0, 1, 2, 3, 4, 5."
   ]
  },
  {
   "cell_type": "markdown",
   "metadata": {},
   "source": [
    "#### 5. Which chopstick length performed the best for the group of thirty-one male junior college students?\n",
    "\n"
   ]
  },
  {
   "cell_type": "code",
   "execution_count": 5,
   "metadata": {
    "collapsed": false
   },
   "outputs": [
    {
     "name": "stdout",
     "output_type": "stream",
     "text": [
      "Populating the interactive namespace from numpy and matplotlib\n"
     ]
    },
    {
     "data": {
      "image/png": "[encoded data removed]",
      "text/plain": [
       "<matplotlib.figure.Figure at 0x10788ab10>"
      ]
     },
     "metadata": {},
     "output_type": "display_data"
    }
   ],
   "source": [
    "# Causes plots to display within the notebook rather than in a new window\n",
    "%pylab inline\n",
    "\n",
    "import matplotlib.pyplot as plt\n",
    "\n",
    "plt.scatter(x=meansByChopstickLength['Chopstick.Length'], y=meansByChopstickLength['Food.Pinching.Efficiency'])\n",
    "            # title=\"\")\n",
    "plt.xlabel(\"Length in mm\")\n",
    "plt.ylabel(\"Efficiency in PPPC\")\n",
    "plt.title(\"Average Food Pinching Efficiency by Chopstick Length\")\n",
    "plt.show()"
   ]
  },
  {
   "cell_type": "markdown",
   "metadata": {},
   "source": [
    "#### 6. Based on the scatterplot created from the code above, interpret the relationship you see. What do you notice?\n",
    "\n",
    "Proficiency seems to increase with chopstick length untill the 240mm point is reached. There is a steep decline in performance from the 240mm chopsticks and the 270mm chopsticks followed by another increase that does not continue to form a trend in the way that the first three data points seem to."
   ]
  },
  {
   "cell_type": "markdown",
   "metadata": {},
   "source": [
    "### In the abstract the researchers stated that their results showed food-pinching performance was significantly affected by the length of the chopsticks, and that chopsticks of about 240 mm long were optimal for adults."
   ]
  },
  {
   "cell_type": "markdown",
   "metadata": {},
   "source": [
    "#### 7a. Based on the data you have analyzed, do you agree with the claim?\n",
    "It is an appealing claim, but I do not agree."
   ]
  },
  {
   "cell_type": "markdown",
   "metadata": {},
   "source": [
    "#### 7b. Why?\n",
    "The variability of the average PPPC efficiencies of the subjects across the different chopstick sizes is too small to make the 240mm difference significant."
   ]
  },
  {
   "cell_type": "markdown",
   "metadata": {},
   "source": [
    "####Overview\n",
    "What follows is a brief outline of how I arrived at this conclusion as well as some other thoughts that I've had on the data."
   ]
  },
  {
   "cell_type": "markdown",
   "metadata": {},
   "source": [
    "1. __A Quick Visualization:__ Although scatter plots are nice, they can be misleading. I believe the one included above is one such example.\n",
    "1. __Variability:__ We are not presented with an analysis of the variability in the data. I would like to see the standard deviation of the measured efficiencies before claiming significane.\n",
    "1. __Lurking Variables:__ It maybe worth investigating the the performances of the individual subjects in order to discern any anomalies that may be influencing our results, especially given the small sample size.\n",
    "\n",
    "###Note: <em>This is still a rough draft, but since it's the first project, I'll submit it like this to see if I'm on the right track.<em>"
   ]
  },
  {
   "cell_type": "markdown",
   "metadata": {},
   "source": [
    "###1. Scale - a quick visualization\n",
    "We were told in class to be mindful of misleading charts and the scatter plot of means seems suspicious to me. Just as a sanity check, let's see the difference in performance under a different light."
   ]
  },
  {
   "cell_type": "code",
   "execution_count": 6,
   "metadata": {
    "collapsed": false
   },
   "outputs": [
    {
     "data": {
      "image/png": "[encoded data removed]",
      "text/plain": [
       "<matplotlib.figure.Figure at 0x10796e710>"
      ]
     },
     "metadata": {},
     "output_type": "display_data"
    }
   ],
   "source": [
    "plt.bar(left=meansByChopstickLength['Chopstick.Length'], \n",
    "        height=meansByChopstickLength['Food.Pinching.Efficiency'],\n",
    "        bottom=0,\n",
    "        width=25\n",
    "       )\n",
    "plt.xlabel(\"Length in mm\")\n",
    "plt.ylabel(\"Efficiency in PPPC\")\n",
    "plt.title(\"Average Food Pinching Efficiency by Chopstick Length\")\n",
    "plt.show()"
   ]
  },
  {
   "cell_type": "markdown",
   "metadata": {},
   "source": [
    "These differences don't look quite so stark as they did in the scatter plot. In fact, to look at them this way these results look as though they may come from a uniform distribution. This seems like a reasonable motivation to investigate further."
   ]
  },
  {
   "cell_type": "markdown",
   "metadata": {},
   "source": [
    "###As discussed in class, the mean may not always be the most appropriate measure of center to apply. So let's at least look at the median also. "
   ]
  },
  {
   "cell_type": "code",
   "execution_count": 7,
   "metadata": {
    "collapsed": false,
    "scrolled": true
   },
   "outputs": [
    {
     "data": {
      "text/plain": [
       "24.905"
      ]
     },
     "execution_count": 7,
     "metadata": {},
     "output_type": "execute_result"
    }
   ],
   "source": [
    "dataFrame['Food.Pinching.Efficiency'].median()"
   ]
  },
  {
   "cell_type": "code",
   "execution_count": 8,
   "metadata": {
    "collapsed": false,
    "scrolled": false
   },
   "outputs": [
    {
     "data": {
      "text/html": [
       "<div>\n",
       "<table border=\"1\" class=\"dataframe\">\n",
       "  <thead>\n",
       "    <tr style=\"text-align: right;\">\n",
       "      <th></th>\n",
       "      <th>Chopstick.Length</th>\n",
       "      <th>Food.Pinching.Efficiency</th>\n",
       "    </tr>\n",
       "  </thead>\n",
       "  <tbody>\n",
       "    <tr>\n",
       "      <th>0</th>\n",
       "      <td>180</td>\n",
       "      <td>26.35</td>\n",
       "    </tr>\n",
       "    <tr>\n",
       "      <th>1</th>\n",
       "      <td>210</td>\n",
       "      <td>25.42</td>\n",
       "    </tr>\n",
       "    <tr>\n",
       "      <th>2</th>\n",
       "      <td>240</td>\n",
       "      <td>26.43</td>\n",
       "    </tr>\n",
       "    <tr>\n",
       "      <th>3</th>\n",
       "      <td>270</td>\n",
       "      <td>24.50</td>\n",
       "    </tr>\n",
       "    <tr>\n",
       "      <th>4</th>\n",
       "      <td>300</td>\n",
       "      <td>25.09</td>\n",
       "    </tr>\n",
       "    <tr>\n",
       "      <th>5</th>\n",
       "      <td>330</td>\n",
       "      <td>23.63</td>\n",
       "    </tr>\n",
       "  </tbody>\n",
       "</table>\n",
       "</div>"
      ],
      "text/plain": [
       "   Chopstick.Length  Food.Pinching.Efficiency\n",
       "0               180                     26.35\n",
       "1               210                     25.42\n",
       "2               240                     26.43\n",
       "3               270                     24.50\n",
       "4               300                     25.09\n",
       "5               330                     23.63"
      ]
     },
     "execution_count": 8,
     "metadata": {},
     "output_type": "execute_result"
    }
   ],
   "source": [
    "mediansByChopstickLength = dataFrame.groupby('Chopstick.Length')['Food.Pinching.Efficiency'].median().reset_index()\n",
    "mediansByChopstickLength"
   ]
  },
  {
   "cell_type": "code",
   "execution_count": 9,
   "metadata": {
    "collapsed": false
   },
   "outputs": [
    {
     "data": {
      "image/png": "[encoded data removed]",
      "text/plain": [
       "<matplotlib.figure.Figure at 0x1068a97d0>"
      ]
     },
     "metadata": {},
     "output_type": "display_data"
    }
   ],
   "source": [
    "plt.scatter(x=mediansByChopstickLength['Chopstick.Length'], y=mediansByChopstickLength['Food.Pinching.Efficiency'])\n",
    "            # title=\"\")\n",
    "plt.xlabel(\"Length in mm\")\n",
    "plt.ylabel(\"Efficiency in PPPC\")\n",
    "plt.title(\"Median Food Pinching Efficiency by Chopstick Length\")\n",
    "plt.show()"
   ]
  },
  {
   "cell_type": "markdown",
   "metadata": {},
   "source": [
    "###Hmmm, this seems to be telling a slightly different story than the mean average.\n",
    "While it still looks reasonably safe to say that 240mm is a good candidate to be the optimal chopstick length, this plot seems indicate that performance decreases with chopstick length. Certainly, using the median as our method of center the favorability of the 180mm chopstick has changed. But as we've already noted, this may not be the most appropriate way to view the data. Let's try the bar plot again."
   ]
  },
  {
   "cell_type": "code",
   "execution_count": 10,
   "metadata": {
    "collapsed": false
   },
   "outputs": [
    {
     "data": {
      "image/png": "[encoded data removed]",
      "text/plain": [
       "<matplotlib.figure.Figure at 0x1042acfd0>"
      ]
     },
     "metadata": {},
     "output_type": "display_data"
    }
   ],
   "source": [
    "plt.bar(left=mediansByChopstickLength['Chopstick.Length'], \n",
    "        height=mediansByChopstickLength['Food.Pinching.Efficiency'],\n",
    "        bottom=0,\n",
    "        width=25\n",
    "       )\n",
    "plt.xlabel(\"Length in mm\")\n",
    "plt.ylabel(\"Efficiency in PPPC\")\n",
    "plt.title(\"Average Food Pinching Efficiency by Chopstick Length\")\n",
    "plt.show()"
   ]
  },
  {
   "cell_type": "markdown",
   "metadata": {},
   "source": [
    "Once again, this does not look like a case for a significant advantage for the 240mm group."
   ]
  },
  {
   "cell_type": "markdown",
   "metadata": {},
   "source": [
    "###2. Variability\n",
    "In order to establish significance we need to have a sense of variablility. Let's take a look at the standard deviation between the PPPC efficiencies of the subjects across the different chopstick lengths."
   ]
  },
  {
   "cell_type": "code",
   "execution_count": 11,
   "metadata": {
    "collapsed": false
   },
   "outputs": [
    {
     "data": {
      "text/plain": [
       "4.03969291376798"
      ]
     },
     "execution_count": 11,
     "metadata": {},
     "output_type": "execute_result"
    }
   ],
   "source": [
    "dataFrame['Food.Pinching.Efficiency'].std()"
   ]
  },
  {
   "cell_type": "markdown",
   "metadata": {},
   "source": [
    "and also within each chopstick length experiment."
   ]
  },
  {
   "cell_type": "code",
   "execution_count": 12,
   "metadata": {
    "collapsed": false
   },
   "outputs": [
    {
     "data": {
      "text/html": [
       "<div>\n",
       "<table border=\"1\" class=\"dataframe\">\n",
       "  <thead>\n",
       "    <tr style=\"text-align: right;\">\n",
       "      <th></th>\n",
       "      <th>Chopstick.Length</th>\n",
       "      <th>Food.Pinching.Efficiency</th>\n",
       "    </tr>\n",
       "  </thead>\n",
       "  <tbody>\n",
       "    <tr>\n",
       "      <th>0</th>\n",
       "      <td>180</td>\n",
       "      <td>4.020612</td>\n",
       "    </tr>\n",
       "    <tr>\n",
       "      <th>1</th>\n",
       "      <td>210</td>\n",
       "      <td>4.116344</td>\n",
       "    </tr>\n",
       "    <tr>\n",
       "      <th>2</th>\n",
       "      <td>240</td>\n",
       "      <td>4.457579</td>\n",
       "    </tr>\n",
       "    <tr>\n",
       "      <th>3</th>\n",
       "      <td>270</td>\n",
       "      <td>3.713268</td>\n",
       "    </tr>\n",
       "    <tr>\n",
       "      <th>4</th>\n",
       "      <td>300</td>\n",
       "      <td>3.560044</td>\n",
       "    </tr>\n",
       "    <tr>\n",
       "      <th>5</th>\n",
       "      <td>330</td>\n",
       "      <td>4.198898</td>\n",
       "    </tr>\n",
       "  </tbody>\n",
       "</table>\n",
       "</div>"
      ],
      "text/plain": [
       "   Chopstick.Length  Food.Pinching.Efficiency\n",
       "0               180                  4.020612\n",
       "1               210                  4.116344\n",
       "2               240                  4.457579\n",
       "3               270                  3.713268\n",
       "4               300                  3.560044\n",
       "5               330                  4.198898"
      ]
     },
     "execution_count": 12,
     "metadata": {},
     "output_type": "execute_result"
    }
   ],
   "source": [
    "standardDeviationsByChopstickLength = dataFrame.groupby('Chopstick.Length')['Food.Pinching.Efficiency'].std().reset_index()\n",
    "standardDeviationsByChopstickLength"
   ]
  },
  {
   "cell_type": "markdown",
   "metadata": {},
   "source": [
    "Let's put these numbers in some context. The range of the means for each group was:"
   ]
  },
  {
   "cell_type": "code",
   "execution_count": 13,
   "metadata": {
    "collapsed": false
   },
   "outputs": [
    {
     "data": {
      "text/plain": [
       "2.3232258064516209"
      ]
     },
     "execution_count": 13,
     "metadata": {},
     "output_type": "execute_result"
    }
   ],
   "source": [
    "means = meansByChopstickLength['Food.Pinching.Efficiency']\n",
    "range_of_means = max(means) - min(means)\n",
    "range_of_means"
   ]
  },
  {
   "cell_type": "markdown",
   "metadata": {},
   "source": [
    "Which seems quite a lot smaller than the standard deviation of the sample."
   ]
  },
  {
   "cell_type": "markdown",
   "metadata": {},
   "source": [
    "<em>At this point I'm having some trouble articulating exactly why this is so telling. My instinct is that we can hypothosize about the distribution of chopstick length efficiencies being normal and find the probability of randomly selected length differing from the mean by the scale that the 240mm example does. I feel like that it would approach a near certainty that it would. In other words, not only is there not evidence that 240mm is the optimal length for chopsticks, running the same experiment over again might as easily place the resulting mean of efficiencies as far from the average in the opposite direction. But again, this is a draft and I plan to continue working away at this problem.<em>"
   ]
  },
  {
   "cell_type": "markdown",
   "metadata": {},
   "source": [
    "###Histogram\n",
    "While it is nice to have the averages displayed on a scatter chart, I thought that there might be more insight to be drawn from looking at the histogram representations of the subject's efficiencies with each length of chopstick."
   ]
  },
  {
   "cell_type": "code",
   "execution_count": 14,
   "metadata": {
    "collapsed": false
   },
   "outputs": [
    {
     "data": {
      "image/png": "[encoded data removed]",
      "text/plain": [
       "<matplotlib.figure.Figure at 0x107bf4bd0>"
      ]
     },
     "metadata": {},
     "output_type": "display_data"
    }
   ],
   "source": [
    "histograms = pd.DataFrame.hist(dataFrame, column='Food.Pinching.Efficiency', by='Chopstick.Length')"
   ]
  },
  {
   "cell_type": "markdown",
   "metadata": {},
   "source": [
    "It looks as though the results from the 180mm chopstick experiment skew negatively.\n",
    "\n",
    "<em>I'm still working out what this means also. I find myself having to resist the urge to find significance in the data to support my own hunches. <em>"
   ]
  },
  {
   "cell_type": "markdown",
   "metadata": {},
   "source": [
    "##4.  Potential Lurking Variables\n",
    "####We don't know the distribution of chopstick skills in the population, but with such a small sample could it be the case that a few sucjects with a lot of practice are skewing the results?\n",
    "Let's look at the individual efficiencies."
   ]
  },
  {
   "cell_type": "markdown",
   "metadata": {},
   "source": [
    "###Let's analayze variablity of the performance of individual subjects across chopstick lengths and change the layout to be a little bit more intuitive."
   ]
  },
  {
   "cell_type": "code",
   "execution_count": 15,
   "metadata": {
    "collapsed": false
   },
   "outputs": [
    {
     "data": {
      "text/html": [
       "<div>\n",
       "<table border=\"1\" class=\"dataframe\">\n",
       "  <thead>\n",
       "    <tr>\n",
       "      <th></th>\n",
       "      <th colspan=\"6\" halign=\"left\">Food.Pinching.Efficiency</th>\n",
       "      <th>median</th>\n",
       "      <th>mean</th>\n",
       "      <th>var</th>\n",
       "      <th>std</th>\n",
       "    </tr>\n",
       "    <tr>\n",
       "      <th>Chopstick.Length</th>\n",
       "      <th>180</th>\n",
       "      <th>210</th>\n",
       "      <th>240</th>\n",
       "      <th>270</th>\n",
       "      <th>300</th>\n",
       "      <th>330</th>\n",
       "      <th></th>\n",
       "      <th></th>\n",
       "      <th></th>\n",
       "      <th></th>\n",
       "    </tr>\n",
       "    <tr>\n",
       "      <th>Individual</th>\n",
       "      <th></th>\n",
       "      <th></th>\n",
       "      <th></th>\n",
       "      <th></th>\n",
       "      <th></th>\n",
       "      <th></th>\n",
       "      <th></th>\n",
       "      <th></th>\n",
       "      <th></th>\n",
       "      <th></th>\n",
       "    </tr>\n",
       "  </thead>\n",
       "  <tbody>\n",
       "    <tr>\n",
       "      <th>1</th>\n",
       "      <td>19.55</td>\n",
       "      <td>23.53</td>\n",
       "      <td>21.34</td>\n",
       "      <td>24.40</td>\n",
       "      <td>22.50</td>\n",
       "      <td>21.32</td>\n",
       "      <td>21.920</td>\n",
       "      <td>22.106667</td>\n",
       "      <td>3.036627</td>\n",
       "      <td>1.742592</td>\n",
       "    </tr>\n",
       "    <tr>\n",
       "      <th>2</th>\n",
       "      <td>27.24</td>\n",
       "      <td>26.39</td>\n",
       "      <td>29.94</td>\n",
       "      <td>25.88</td>\n",
       "      <td>23.10</td>\n",
       "      <td>26.18</td>\n",
       "      <td>26.285</td>\n",
       "      <td>26.455000</td>\n",
       "      <td>4.885590</td>\n",
       "      <td>2.210337</td>\n",
       "    </tr>\n",
       "    <tr>\n",
       "      <th>3</th>\n",
       "      <td>28.76</td>\n",
       "      <td>30.90</td>\n",
       "      <td>32.95</td>\n",
       "      <td>27.97</td>\n",
       "      <td>28.26</td>\n",
       "      <td>25.93</td>\n",
       "      <td>28.510</td>\n",
       "      <td>29.128333</td>\n",
       "      <td>6.040937</td>\n",
       "      <td>2.457832</td>\n",
       "    </tr>\n",
       "    <tr>\n",
       "      <th>4</th>\n",
       "      <td>31.19</td>\n",
       "      <td>26.05</td>\n",
       "      <td>29.40</td>\n",
       "      <td>24.54</td>\n",
       "      <td>25.55</td>\n",
       "      <td>28.61</td>\n",
       "      <td>27.330</td>\n",
       "      <td>27.556667</td>\n",
       "      <td>6.621107</td>\n",
       "      <td>2.573151</td>\n",
       "    </tr>\n",
       "    <tr>\n",
       "      <th>5</th>\n",
       "      <td>21.91</td>\n",
       "      <td>23.27</td>\n",
       "      <td>22.32</td>\n",
       "      <td>22.66</td>\n",
       "      <td>16.71</td>\n",
       "      <td>20.54</td>\n",
       "      <td>22.115</td>\n",
       "      <td>21.235000</td>\n",
       "      <td>5.752670</td>\n",
       "      <td>2.398472</td>\n",
       "    </tr>\n",
       "    <tr>\n",
       "      <th>6</th>\n",
       "      <td>27.62</td>\n",
       "      <td>29.17</td>\n",
       "      <td>28.36</td>\n",
       "      <td>28.94</td>\n",
       "      <td>27.88</td>\n",
       "      <td>26.44</td>\n",
       "      <td>28.120</td>\n",
       "      <td>28.068333</td>\n",
       "      <td>0.989297</td>\n",
       "      <td>0.994634</td>\n",
       "    </tr>\n",
       "    <tr>\n",
       "      <th>7</th>\n",
       "      <td>29.46</td>\n",
       "      <td>30.93</td>\n",
       "      <td>28.49</td>\n",
       "      <td>30.72</td>\n",
       "      <td>31.07</td>\n",
       "      <td>29.36</td>\n",
       "      <td>30.090</td>\n",
       "      <td>30.005000</td>\n",
       "      <td>1.101870</td>\n",
       "      <td>1.049700</td>\n",
       "    </tr>\n",
       "    <tr>\n",
       "      <th>8</th>\n",
       "      <td>26.35</td>\n",
       "      <td>17.55</td>\n",
       "      <td>22.24</td>\n",
       "      <td>16.70</td>\n",
       "      <td>23.44</td>\n",
       "      <td>19.77</td>\n",
       "      <td>21.005</td>\n",
       "      <td>21.008333</td>\n",
       "      <td>13.603737</td>\n",
       "      <td>3.688324</td>\n",
       "    </tr>\n",
       "    <tr>\n",
       "      <th>9</th>\n",
       "      <td>26.69</td>\n",
       "      <td>32.55</td>\n",
       "      <td>36.15</td>\n",
       "      <td>30.27</td>\n",
       "      <td>28.82</td>\n",
       "      <td>31.69</td>\n",
       "      <td>30.980</td>\n",
       "      <td>31.028333</td>\n",
       "      <td>10.651537</td>\n",
       "      <td>3.263669</td>\n",
       "    </tr>\n",
       "    <tr>\n",
       "      <th>10</th>\n",
       "      <td>30.22</td>\n",
       "      <td>28.87</td>\n",
       "      <td>30.62</td>\n",
       "      <td>26.29</td>\n",
       "      <td>27.77</td>\n",
       "      <td>24.64</td>\n",
       "      <td>28.320</td>\n",
       "      <td>28.068333</td>\n",
       "      <td>5.357657</td>\n",
       "      <td>2.314661</td>\n",
       "    </tr>\n",
       "    <tr>\n",
       "      <th>11</th>\n",
       "      <td>27.81</td>\n",
       "      <td>26.53</td>\n",
       "      <td>26.53</td>\n",
       "      <td>22.33</td>\n",
       "      <td>24.54</td>\n",
       "      <td>22.09</td>\n",
       "      <td>25.535</td>\n",
       "      <td>24.971667</td>\n",
       "      <td>5.676337</td>\n",
       "      <td>2.382506</td>\n",
       "    </tr>\n",
       "    <tr>\n",
       "      <th>12</th>\n",
       "      <td>23.46</td>\n",
       "      <td>25.26</td>\n",
       "      <td>27.95</td>\n",
       "      <td>24.85</td>\n",
       "      <td>24.55</td>\n",
       "      <td>23.42</td>\n",
       "      <td>24.700</td>\n",
       "      <td>24.915000</td>\n",
       "      <td>2.763950</td>\n",
       "      <td>1.662513</td>\n",
       "    </tr>\n",
       "    <tr>\n",
       "      <th>13</th>\n",
       "      <td>23.64</td>\n",
       "      <td>25.65</td>\n",
       "      <td>31.49</td>\n",
       "      <td>24.33</td>\n",
       "      <td>27.78</td>\n",
       "      <td>28.63</td>\n",
       "      <td>26.715</td>\n",
       "      <td>26.920000</td>\n",
       "      <td>8.725600</td>\n",
       "      <td>2.953913</td>\n",
       "    </tr>\n",
       "    <tr>\n",
       "      <th>14</th>\n",
       "      <td>27.85</td>\n",
       "      <td>29.39</td>\n",
       "      <td>30.24</td>\n",
       "      <td>24.50</td>\n",
       "      <td>26.14</td>\n",
       "      <td>26.30</td>\n",
       "      <td>27.075</td>\n",
       "      <td>27.403333</td>\n",
       "      <td>4.687147</td>\n",
       "      <td>2.164982</td>\n",
       "    </tr>\n",
       "    <tr>\n",
       "      <th>15</th>\n",
       "      <td>20.62</td>\n",
       "      <td>23.26</td>\n",
       "      <td>24.80</td>\n",
       "      <td>22.67</td>\n",
       "      <td>23.44</td>\n",
       "      <td>22.89</td>\n",
       "      <td>23.075</td>\n",
       "      <td>22.946667</td>\n",
       "      <td>1.853907</td>\n",
       "      <td>1.361582</td>\n",
       "    </tr>\n",
       "    <tr>\n",
       "      <th>16</th>\n",
       "      <td>25.35</td>\n",
       "      <td>24.77</td>\n",
       "      <td>26.43</td>\n",
       "      <td>22.28</td>\n",
       "      <td>26.44</td>\n",
       "      <td>22.68</td>\n",
       "      <td>25.060</td>\n",
       "      <td>24.658333</td>\n",
       "      <td>3.274857</td>\n",
       "      <td>1.809657</td>\n",
       "    </tr>\n",
       "    <tr>\n",
       "      <th>17</th>\n",
       "      <td>28.00</td>\n",
       "      <td>25.42</td>\n",
       "      <td>29.35</td>\n",
       "      <td>23.80</td>\n",
       "      <td>27.47</td>\n",
       "      <td>30.92</td>\n",
       "      <td>27.735</td>\n",
       "      <td>27.493333</td>\n",
       "      <td>6.677187</td>\n",
       "      <td>2.584025</td>\n",
       "    </tr>\n",
       "    <tr>\n",
       "      <th>18</th>\n",
       "      <td>23.49</td>\n",
       "      <td>23.65</td>\n",
       "      <td>21.15</td>\n",
       "      <td>25.36</td>\n",
       "      <td>24.94</td>\n",
       "      <td>20.74</td>\n",
       "      <td>23.570</td>\n",
       "      <td>23.221667</td>\n",
       "      <td>3.646217</td>\n",
       "      <td>1.909507</td>\n",
       "    </tr>\n",
       "    <tr>\n",
       "      <th>19</th>\n",
       "      <td>27.77</td>\n",
       "      <td>32.22</td>\n",
       "      <td>29.18</td>\n",
       "      <td>29.50</td>\n",
       "      <td>29.68</td>\n",
       "      <td>27.24</td>\n",
       "      <td>29.340</td>\n",
       "      <td>29.265000</td>\n",
       "      <td>3.060470</td>\n",
       "      <td>1.749420</td>\n",
       "    </tr>\n",
       "    <tr>\n",
       "      <th>20</th>\n",
       "      <td>18.48</td>\n",
       "      <td>18.86</td>\n",
       "      <td>21.60</td>\n",
       "      <td>20.19</td>\n",
       "      <td>24.33</td>\n",
       "      <td>17.12</td>\n",
       "      <td>19.525</td>\n",
       "      <td>20.096667</td>\n",
       "      <td>6.638667</td>\n",
       "      <td>2.576561</td>\n",
       "    </tr>\n",
       "    <tr>\n",
       "      <th>21</th>\n",
       "      <td>23.01</td>\n",
       "      <td>21.75</td>\n",
       "      <td>25.39</td>\n",
       "      <td>20.14</td>\n",
       "      <td>25.42</td>\n",
       "      <td>23.63</td>\n",
       "      <td>23.320</td>\n",
       "      <td>23.223333</td>\n",
       "      <td>4.281667</td>\n",
       "      <td>2.069219</td>\n",
       "    </tr>\n",
       "    <tr>\n",
       "      <th>22</th>\n",
       "      <td>22.66</td>\n",
       "      <td>23.07</td>\n",
       "      <td>22.26</td>\n",
       "      <td>21.09</td>\n",
       "      <td>24.64</td>\n",
       "      <td>20.91</td>\n",
       "      <td>22.460</td>\n",
       "      <td>22.438333</td>\n",
       "      <td>1.896217</td>\n",
       "      <td>1.377032</td>\n",
       "    </tr>\n",
       "    <tr>\n",
       "      <th>23</th>\n",
       "      <td>23.24</td>\n",
       "      <td>22.30</td>\n",
       "      <td>24.85</td>\n",
       "      <td>24.78</td>\n",
       "      <td>22.78</td>\n",
       "      <td>23.49</td>\n",
       "      <td>23.365</td>\n",
       "      <td>23.573333</td>\n",
       "      <td>1.090947</td>\n",
       "      <td>1.044484</td>\n",
       "    </tr>\n",
       "    <tr>\n",
       "      <th>24</th>\n",
       "      <td>22.82</td>\n",
       "      <td>27.04</td>\n",
       "      <td>24.56</td>\n",
       "      <td>24.74</td>\n",
       "      <td>26.50</td>\n",
       "      <td>24.86</td>\n",
       "      <td>24.800</td>\n",
       "      <td>25.086667</td>\n",
       "      <td>2.279947</td>\n",
       "      <td>1.509949</td>\n",
       "    </tr>\n",
       "    <tr>\n",
       "      <th>25</th>\n",
       "      <td>17.94</td>\n",
       "      <td>22.24</td>\n",
       "      <td>16.35</td>\n",
       "      <td>22.73</td>\n",
       "      <td>18.71</td>\n",
       "      <td>16.28</td>\n",
       "      <td>18.325</td>\n",
       "      <td>19.041667</td>\n",
       "      <td>8.005737</td>\n",
       "      <td>2.829441</td>\n",
       "    </tr>\n",
       "    <tr>\n",
       "      <th>26</th>\n",
       "      <td>26.67</td>\n",
       "      <td>24.87</td>\n",
       "      <td>22.96</td>\n",
       "      <td>21.08</td>\n",
       "      <td>22.86</td>\n",
       "      <td>21.52</td>\n",
       "      <td>22.910</td>\n",
       "      <td>23.326667</td>\n",
       "      <td>4.444707</td>\n",
       "      <td>2.108247</td>\n",
       "    </tr>\n",
       "    <tr>\n",
       "      <th>27</th>\n",
       "      <td>28.98</td>\n",
       "      <td>30.85</td>\n",
       "      <td>25.82</td>\n",
       "      <td>25.70</td>\n",
       "      <td>25.09</td>\n",
       "      <td>27.22</td>\n",
       "      <td>26.520</td>\n",
       "      <td>27.276667</td>\n",
       "      <td>5.012507</td>\n",
       "      <td>2.238863</td>\n",
       "    </tr>\n",
       "    <tr>\n",
       "      <th>28</th>\n",
       "      <td>21.48</td>\n",
       "      <td>21.15</td>\n",
       "      <td>19.46</td>\n",
       "      <td>19.79</td>\n",
       "      <td>19.72</td>\n",
       "      <td>17.41</td>\n",
       "      <td>19.755</td>\n",
       "      <td>19.835000</td>\n",
       "      <td>2.094350</td>\n",
       "      <td>1.447187</td>\n",
       "    </tr>\n",
       "    <tr>\n",
       "      <th>29</th>\n",
       "      <td>14.47</td>\n",
       "      <td>16.47</td>\n",
       "      <td>23.60</td>\n",
       "      <td>16.82</td>\n",
       "      <td>17.05</td>\n",
       "      <td>16.42</td>\n",
       "      <td>16.645</td>\n",
       "      <td>17.471667</td>\n",
       "      <td>9.855657</td>\n",
       "      <td>3.139372</td>\n",
       "    </tr>\n",
       "    <tr>\n",
       "      <th>30</th>\n",
       "      <td>28.29</td>\n",
       "      <td>29.05</td>\n",
       "      <td>33.10</td>\n",
       "      <td>31.15</td>\n",
       "      <td>30.91</td>\n",
       "      <td>28.22</td>\n",
       "      <td>29.980</td>\n",
       "      <td>30.120000</td>\n",
       "      <td>3.733840</td>\n",
       "      <td>1.932315</td>\n",
       "    </tr>\n",
       "    <tr>\n",
       "      <th>31</th>\n",
       "      <td>27.97</td>\n",
       "      <td>26.99</td>\n",
       "      <td>27.13</td>\n",
       "      <td>27.84</td>\n",
       "      <td>25.92</td>\n",
       "      <td>27.52</td>\n",
       "      <td>27.325</td>\n",
       "      <td>27.228333</td>\n",
       "      <td>0.557497</td>\n",
       "      <td>0.746657</td>\n",
       "    </tr>\n",
       "  </tbody>\n",
       "</table>\n",
       "</div>"
      ],
      "text/plain": [
       "                 Food.Pinching.Efficiency                                     \\\n",
       "Chopstick.Length                      180    210    240    270    300    330   \n",
       "Individual                                                                     \n",
       "1                                   19.55  23.53  21.34  24.40  22.50  21.32   \n",
       "2                                   27.24  26.39  29.94  25.88  23.10  26.18   \n",
       "3                                   28.76  30.90  32.95  27.97  28.26  25.93   \n",
       "4                                   31.19  26.05  29.40  24.54  25.55  28.61   \n",
       "5                                   21.91  23.27  22.32  22.66  16.71  20.54   \n",
       "6                                   27.62  29.17  28.36  28.94  27.88  26.44   \n",
       "7                                   29.46  30.93  28.49  30.72  31.07  29.36   \n",
       "8                                   26.35  17.55  22.24  16.70  23.44  19.77   \n",
       "9                                   26.69  32.55  36.15  30.27  28.82  31.69   \n",
       "10                                  30.22  28.87  30.62  26.29  27.77  24.64   \n",
       "11                                  27.81  26.53  26.53  22.33  24.54  22.09   \n",
       "12                                  23.46  25.26  27.95  24.85  24.55  23.42   \n",
       "13                                  23.64  25.65  31.49  24.33  27.78  28.63   \n",
       "14                                  27.85  29.39  30.24  24.50  26.14  26.30   \n",
       "15                                  20.62  23.26  24.80  22.67  23.44  22.89   \n",
       "16                                  25.35  24.77  26.43  22.28  26.44  22.68   \n",
       "17                                  28.00  25.42  29.35  23.80  27.47  30.92   \n",
       "18                                  23.49  23.65  21.15  25.36  24.94  20.74   \n",
       "19                                  27.77  32.22  29.18  29.50  29.68  27.24   \n",
       "20                                  18.48  18.86  21.60  20.19  24.33  17.12   \n",
       "21                                  23.01  21.75  25.39  20.14  25.42  23.63   \n",
       "22                                  22.66  23.07  22.26  21.09  24.64  20.91   \n",
       "23                                  23.24  22.30  24.85  24.78  22.78  23.49   \n",
       "24                                  22.82  27.04  24.56  24.74  26.50  24.86   \n",
       "25                                  17.94  22.24  16.35  22.73  18.71  16.28   \n",
       "26                                  26.67  24.87  22.96  21.08  22.86  21.52   \n",
       "27                                  28.98  30.85  25.82  25.70  25.09  27.22   \n",
       "28                                  21.48  21.15  19.46  19.79  19.72  17.41   \n",
       "29                                  14.47  16.47  23.60  16.82  17.05  16.42   \n",
       "30                                  28.29  29.05  33.10  31.15  30.91  28.22   \n",
       "31                                  27.97  26.99  27.13  27.84  25.92  27.52   \n",
       "\n",
       "                  median       mean        var       std  \n",
       "Chopstick.Length                                          \n",
       "Individual                                                \n",
       "1                 21.920  22.106667   3.036627  1.742592  \n",
       "2                 26.285  26.455000   4.885590  2.210337  \n",
       "3                 28.510  29.128333   6.040937  2.457832  \n",
       "4                 27.330  27.556667   6.621107  2.573151  \n",
       "5                 22.115  21.235000   5.752670  2.398472  \n",
       "6                 28.120  28.068333   0.989297  0.994634  \n",
       "7                 30.090  30.005000   1.101870  1.049700  \n",
       "8                 21.005  21.008333  13.603737  3.688324  \n",
       "9                 30.980  31.028333  10.651537  3.263669  \n",
       "10                28.320  28.068333   5.357657  2.314661  \n",
       "11                25.535  24.971667   5.676337  2.382506  \n",
       "12                24.700  24.915000   2.763950  1.662513  \n",
       "13                26.715  26.920000   8.725600  2.953913  \n",
       "14                27.075  27.403333   4.687147  2.164982  \n",
       "15                23.075  22.946667   1.853907  1.361582  \n",
       "16                25.060  24.658333   3.274857  1.809657  \n",
       "17                27.735  27.493333   6.677187  2.584025  \n",
       "18                23.570  23.221667   3.646217  1.909507  \n",
       "19                29.340  29.265000   3.060470  1.749420  \n",
       "20                19.525  20.096667   6.638667  2.576561  \n",
       "21                23.320  23.223333   4.281667  2.069219  \n",
       "22                22.460  22.438333   1.896217  1.377032  \n",
       "23                23.365  23.573333   1.090947  1.044484  \n",
       "24                24.800  25.086667   2.279947  1.509949  \n",
       "25                18.325  19.041667   8.005737  2.829441  \n",
       "26                22.910  23.326667   4.444707  2.108247  \n",
       "27                26.520  27.276667   5.012507  2.238863  \n",
       "28                19.755  19.835000   2.094350  1.447187  \n",
       "29                16.645  17.471667   9.855657  3.139372  \n",
       "30                29.980  30.120000   3.733840  1.932315  \n",
       "31                27.325  27.228333   0.557497  0.746657  "
      ]
     },
     "execution_count": 15,
     "metadata": {},
     "output_type": "execute_result"
    }
   ],
   "source": [
    "indiviual_efficiency_by_chopstick_length = dataFrame.pivot(index='Individual', columns='Chopstick.Length')\n",
    "ops = ['median', 'mean', 'var', 'std']\n",
    "chopstick_data = indiviual_efficiency_by_chopstick_length.copy()\n",
    "for op in ops:\n",
    "    chopstick_data[op] = eval('indiviual_efficiency_by_chopstick_length.T.'+op+'()')\n",
    "chopstick_data"
   ]
  },
  {
   "cell_type": "code",
   "execution_count": 16,
   "metadata": {
    "collapsed": false
   },
   "outputs": [
    {
     "data": {
      "image/png": "[encoded data removed]",
      "text/plain": [
       "<matplotlib.figure.Figure at 0x1081fd7d0>"
      ]
     },
     "metadata": {},
     "output_type": "display_data"
    }
   ],
   "source": [
    "plt.boxplot(x=meansByChopstickLength['Food.Pinching.Efficiency'])\n",
    "\n",
    "plt.ylabel(\"Efficiency in PPPC\")\n",
    "plt.title(\"Average Food Pinching Efficiency by Chopstick Length\")\n",
    "plt.show()"
   ]
  },
  {
   "cell_type": "code",
   "execution_count": null,
   "metadata": {
    "collapsed": true
   },
   "outputs": [],
   "source": []
  }
 ],
 "metadata": {
  "kernelspec": {
   "display_name": "Python 2",
   "language": "python",
   "name": "python2"
  },
  "language_info": {
   "codemirror_mode": {
    "name": "ipython",
    "version": 2
   },
   "file_extension": ".py",
   "mimetype": "text/x-python",
   "name": "python",
   "nbconvert_exporter": "python",
   "pygments_lexer": "ipython2",
   "version": "2.7.10"
  }
 },
 "nbformat": 4,
 "nbformat_minor": 0
}
